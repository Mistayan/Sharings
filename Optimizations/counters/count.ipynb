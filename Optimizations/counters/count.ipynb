{
 "cells": [
  {
   "cell_type": "markdown",
   "id": "22b5c13b",
   "metadata": {
    "pycharm": {
     "name": "#%% md\n"
    }
   },
   "source": [
    "# Playing with libs for string operations\n",
    "\n",
    "Python's fun, yet complex ! Using libraries is a way to ease your life around some problems.\n",
    "\n",
    "Built-ins functionalities of python like re, collections or functools are pillars for clean, optimized code.\n",
    "\n",
    "Do not rewrite code, find a lib that does what you want ! Then, enhance it by adding more functionnalities as needed."
   ]
  },
  {
   "cell_type": "code",
   "execution_count": 1,
   "id": "75c2667d",
   "metadata": {
    "pycharm": {
     "name": "#%%\n"
    }
   },
   "outputs": [
    {
     "name": "stdout",
     "output_type": "stream",
     "text": [
      "[\"Python's\", 'fun', 'yèt', 'complex', 'Using', 'libraries', 'is', 'a', 'way', 'to', 'eâse', 'yöur', 'life', 'arouÑd', 'some', 'problems', 'Built-ins', \"'fonctionalités'\", 'of', 'python', 'like', 're', 'collectioNs', 'or', 'functools', 'are', 'pillars', 'for', 'a', 'clean', 'optimized', 'code', 'Do', 'not', 'rewrite', 'code', 'enhance', 'it', 'Now', 'Dø', 'It', 'Yourself'] \n",
      "\n",
      "[\"Python's\", 'fun', 'yèt', 'complex', 'Using', 'libraries', 'is', 'a', 'way', 'to', 'eâse', 'yöur', 'life', 'arouÑd', 'some', 'problems', 'Built-ins', \"'fonctionalités'\", 'of', 'python', 'like', 're', 'collectioNs', 'or', 'functools', 'are', 'pillars', 'for', 'a', 'clean', 'optimized', 'code', 'Do', 'not', 'rewrite', 'code', 'enhance', 'it', 'Now', 'Dø', 'It', 'Yourself'] \n",
      "\n",
      "first, let's compare classic approach to regex findall  on 100000 runs:\n",
      "classic : 2.026s\n",
      "regex : 1.217s\n"
     ]
    }
   ],
   "source": [
    "from string import whitespace, punctuation, digits\n",
    "from timeit import timeit\n",
    "from collections import Counter, defaultdict\n",
    "import functools\n",
    "import re\n",
    "\n",
    "# INITIALISATION\n",
    "# str.join method is the fastest and memory friendly compared\n",
    "# to many other formatting styles (especially on loops !)\n",
    "# Ensure each unwanted character is unique with a set(...)\n",
    "non_chars = \"\".join(set([whitespace, punctuation, digits]))\n",
    "\n",
    "text = \" \".join([\n",
    "    \"Python's fun, yèt complex ! Using libraries is a way to eâse yöur\",\n",
    "    \"life arouÑd some problems. Built-ins 'fonctionalités' of python like re,\",\n",
    "    \"collectioNs or functools are \\\\\\n pillars for a clean, optimized code.\\\\\\n\",\n",
    "    \"Do not rewrite code, enhance it!\",\n",
    "    \"Now, Dø It Yourself ;)\"\n",
    "])\n",
    "\n",
    "\n",
    "# DEFINING BASIC FUNCTIONS\n",
    "def classic_get_words(_string: str) -> list[str]:\n",
    "    \"\"\"\n",
    "    The most commonly used method to count words in a text is\n",
    "    poorly optimized. On top of being slow, it does not allow proper\n",
    "    counting without further operations. Changing a thing can oftentimes\n",
    "    harden the debug process and lead to unwanted results.\n",
    "    \"\"\"\n",
    "    # strip removes end-line characters, making a one-line text\n",
    "    words = _string.strip().split()\n",
    "    for word_index in range(len(words)):\n",
    "        # If the word is alphabetic, we do not need further operations\n",
    "        if not words[word_index].isalpha():\n",
    "            alpha_word = \"\"\n",
    "            for letter in words[word_index]:\n",
    "                if letter not in non_chars or letter in ('\\'', '-', '_'):\n",
    "                    # or letter in (...) is to capture 's and linked-_-words\n",
    "                    # It is done this way because :\n",
    "                    # 'not in' breaks itself on first missmatch\n",
    "                    # If we were to invert the tests, process would be much slower !\n",
    "                    alpha_word += letter\n",
    "\n",
    "            words[word_index] = alpha_word\n",
    "    # returns only words that are not empty.\n",
    "    return [word for word in words if word]\n",
    "\n",
    "\n",
    "def regex_get_words(_string: str) -> list[str]:\n",
    "    \"\"\"\n",
    "    On top of being quite clear and easy to adapt to specific cases,\n",
    "    it is also pretty fast to gather anything you want in a text.\n",
    "    In regex, \\w is an alias for [a-zA-Z0-9_] meaning it will match ascii_letters,\n",
    "    digits and symbol '_'.\n",
    "    We only want words, so we have to use [a-zA-ZÇ-ý'_-]+\n",
    "    Where:\n",
    "    - [a-zA-Z] is the same as string.ascii_letters\n",
    "    - [Ç-ý] takes accents, cedilles, and special characters into consideration\n",
    "    - ['_-] allows us to capture 's and linked-_-words\n",
    "    - + means 'find as much as you can in a row'.\n",
    "        if any character is not one of those: next word\n",
    "\n",
    "    We could also use negation with non-capturing expressions like (?:(?!:[a-zA-Z])\n",
    "    to perform exactly like the 'classic method'\n",
    "    \"\"\"\n",
    "    words = re.findall(r\"[A-Za-zÇ-ý'_-]+\", _string)\n",
    "    return words\n",
    "\n",
    "print(classic_get_words(text), \"\\n\")\n",
    "print(regex_get_words(text), \"\\n\")\n",
    "assert classic_get_words(text) == regex_get_words(text)\n",
    "\n",
    "# In order to have better oversight on time taken for simple functions,\n",
    "# we have to run them many times \n",
    "nb_runs = 100000\n",
    "print(f\"first, let's compare classic approach to regex findall  on {nb_runs} runs:\")\n",
    "print(\"classic :\",\n",
    "      f\"{timeit(functools.partial(classic_get_words, text), number=nb_runs):.3f}s\")\n",
    "print(\"regex :\",\n",
    "      f\"{timeit(functools.partial(regex_get_words, text), number=nb_runs):.3f}s\")"
   ]
  },
  {
   "cell_type": "markdown",
   "id": "5e114ad1",
   "metadata": {
    "pycharm": {
     "name": "#%% md\n"
    }
   },
   "source": [
    "As we can see, __regex__ is almost twice as fast as the 'classic' method. (other optimized solutions exists)\n",
    "\n",
    "Now we have sorted this out, in the next tests, we will exclusively use this regex method, since it is faster...\n",
    "\n",
    "### Next step:\n",
    "    Since we only want to know how fast each methodology is, we are not going to time regex findings."
   ]
  },
  {
   "cell_type": "code",
   "execution_count": 2,
   "id": "60bbbe75",
   "metadata": {
    "scrolled": true,
    "pycharm": {
     "name": "#%%\n"
    }
   },
   "outputs": [
    {
     "name": "stdout",
     "output_type": "stream",
     "text": [
      "\n",
      "then, if we want to count words occurrences in a text,using Counter or dicts  on 100000 runs:\n",
      "default_dict : 0.680s\n",
      "dict : 0.658s\n",
      "Counter : 0.319s\n"
     ]
    }
   ],
   "source": [
    "# DEFINFING COUNTER FUNCTIONS\n",
    "def counter_count_words(words):\n",
    "    counter = Counter(words)\n",
    "    return counter\n",
    "\n",
    "\n",
    "def defaultdict_count_words(words):\n",
    "    my_counter = defaultdict(int)\n",
    "    for word in words:\n",
    "        my_counter[word] = my_counter.get(word, 0) + 1\n",
    "    return my_counter\n",
    "\n",
    "\n",
    "def dict_count_words(words):\n",
    "    my_counter = {}\n",
    "    for word in words:\n",
    "        my_counter[word] = my_counter.get(word, 0) + 1\n",
    "    return my_counter\n",
    "\n",
    "\n",
    "# not timed\n",
    "words = regex_get_words(text)\n",
    "print()\n",
    "print(\"then, if we want to count words occurrences in a text,\" \n",
    "      f\"using Counter or dicts  on {nb_runs} runs:\")\n",
    "print(\"default_dict :\", \n",
    "      f\"{timeit(functools.partial(defaultdict_count_words, words), number=nb_runs):.3f}s\")\n",
    "print(\"dict :\", \n",
    "      f\"{timeit(functools.partial(dict_count_words, words) , number=nb_runs):.3f}s\")\n",
    "print(\"Counter :\", \n",
    "      f\"{timeit(functools.partial(counter_count_words, words), number=nb_runs):.3f}s\")"
   ]
  },
  {
   "cell_type": "markdown",
   "id": "20d5adc8",
   "metadata": {
    "pycharm": {
     "name": "#%% md\n"
    }
   },
   "source": [
    "Now, it is clear that regex and Counter are the fastest way to count words, on top of freeing code space,\n",
    "\n",
    "Let's see what functionalities offers Counter, on top of being fast :\n",
    "https://docs.python.org/3/library/collections.html#collections.Counter"
   ]
  },
  {
   "cell_type": "code",
   "execution_count": 3,
   "id": "1cb34aa3",
   "metadata": {
    "pycharm": {
     "name": "#%%\n"
    }
   },
   "outputs": [
    {
     "name": "stdout",
     "output_type": "stream",
     "text": [
      "elements of counter :\n",
      " <itertools.chain object at 0x00000254D3B56100>\n",
      "\n",
      "top 4 used words :\n",
      " [('a', 2), ('code', 2), (\"Python's\", 1), ('fun', 1)]\n",
      "\n",
      "If you want to compare two texts and showcasesimilarities or differences :\n",
      "difference between texts :\n",
      " Counter({'code': 2, \"Python's\": 1, 'fun': 1, 'yèt': 1, 'complex': 1, 'Using': 1, 'libraries': 1, 'is': 1, 'a': 1, 'way': 1, 'eâse': 1, 'yöur': 1, 'life': 1, 'arouÑd': 1, 'problems': 1, 'Built-ins': 1, \"'fonctionalités'\": 1, 'of': 1, 'python': 1, 'like': 1, 're': 1, 'collectioNs': 1, 'or': 1, 'functools': 1, 'are': 1, 'pillars': 1, 'for': 1, 'clean': 1, 'optimized': 1, 'Do': 1, 'not': 1, 'rewrite': 1, 'enhance': 1, 'it': 1, 'Now': 1, 'Dø': 1, 'It': 1, 'Yourself': 1, 'to': 0, 'some': 0, 'string': -1, 'that': -1, 'have': -1, 'words': -1, 'substract': -1, 'from': -1, 'the': -1, 'other': -1, 'text': -1})\n",
      "\n",
      "If you only want to take elements that are on a positive count :\n",
      " Counter({'code': 2, \"Python's\": 1, 'fun': 1, 'yèt': 1, 'complex': 1, 'Using': 1, 'libraries': 1, 'is': 1, 'a': 1, 'way': 1, 'eâse': 1, 'yöur': 1, 'life': 1, 'arouÑd': 1, 'problems': 1, 'Built-ins': 1, \"'fonctionalités'\": 1, 'of': 1, 'python': 1, 'like': 1, 're': 1, 'collectioNs': 1, 'or': 1, 'functools': 1, 'are': 1, 'pillars': 1, 'for': 1, 'clean': 1, 'optimized': 1, 'Do': 1, 'not': 1, 'rewrite': 1, 'enhance': 1, 'it': 1, 'Now': 1, 'Dø': 1, 'It': 1, 'Yourself': 1})\n"
     ]
    },
    {
     "ename": "AttributeError",
     "evalue": "'Counter' object has no attribute 'total'",
     "output_type": "error",
     "traceback": [
      "\u001B[1;31m---------------------------------------------------------------------------\u001B[0m",
      "\u001B[1;31mAttributeError\u001B[0m                            Traceback (most recent call last)",
      "Input \u001B[1;32mIn [3]\u001B[0m, in \u001B[0;36m<cell line: 17>\u001B[1;34m()\u001B[0m\n\u001B[0;32m     13\u001B[0m \u001B[38;5;28mprint\u001B[39m(\u001B[38;5;124m\"\u001B[39m\u001B[38;5;124mdifference between texts :\u001B[39m\u001B[38;5;130;01m\\n\u001B[39;00m\u001B[38;5;124m\"\u001B[39m, counter)\n\u001B[0;32m     15\u001B[0m \u001B[38;5;28mprint\u001B[39m(\u001B[38;5;124m\"\u001B[39m\u001B[38;5;130;01m\\n\u001B[39;00m\u001B[38;5;124mIf you only want to take elements that are on a positive count :\u001B[39m\u001B[38;5;130;01m\\n\u001B[39;00m\u001B[38;5;124m\"\u001B[39m, \u001B[38;5;241m+\u001B[39mcounter)\n\u001B[1;32m---> 17\u001B[0m \u001B[38;5;28mprint\u001B[39m(\u001B[38;5;124m\"\u001B[39m\u001B[38;5;124mtotal words :\u001B[39m\u001B[38;5;130;01m\\n\u001B[39;00m\u001B[38;5;124m\"\u001B[39m, \u001B[43mcounter\u001B[49m\u001B[38;5;241;43m.\u001B[39;49m\u001B[43mtotal\u001B[49m())\n",
      "\u001B[1;31mAttributeError\u001B[0m: 'Counter' object has no attribute 'total'"
     ]
    }
   ],
   "source": [
    "# COUNTER POSSIBILITIES\n",
    "counter = Counter(words)\n",
    "\n",
    "print(\"elements of counter :\\n\", counter.elements())\n",
    "print(\"\\ntop 4 used words :\\n\", counter.most_common(4))\n",
    "\n",
    "print(\"\\nIf you want to compare two texts and showcase\"\n",
    "      \"similarities or differences :\")\n",
    "second_text = \"a string that have some words to substract from the other text.\"\n",
    "second_words = regex_get_words(second_text)\n",
    "second_counter = counter_count_words(second_words)\n",
    "counter.subtract(second_words)\n",
    "print(\"difference between texts :\\n\", counter)\n",
    "\n",
    "print(\"\\nIf you only want to take elements that are on a positive count :\\n\", +counter)\n",
    "\n",
    "print(\"total words :\\n\", counter.total())\n"
   ]
  },
  {
   "cell_type": "markdown",
   "id": "91c0a92c",
   "metadata": {
    "pycharm": {
     "name": "#%% md\n"
    }
   },
   "source": [
    "Counter.total() should be a thing, according to the doc... But we use a lib version that does not have it.\n",
    "\n",
    "Also, while we are at it, remember this ? `<itertools.chain object at 0x00....>` we could try and make it so print(counter.elements()) doesn't requires us to iter through with `[elem for elem in counter.elements()]`\n",
    "\n",
    "Now, if we were to create it ourselves, we could do something like __this__:"
   ]
  },
  {
   "cell_type": "code",
   "execution_count": 4,
   "id": "b374b56b",
   "metadata": {
    "pycharm": {
     "name": "#%%\n"
    }
   },
   "outputs": [
    {
     "name": "stdout",
     "output_type": "stream",
     "text": [
      "total number of words :  42\n",
      "words :\n",
      " [\"Python's\", 'fun', 'yèt', 'complex', 'Using', 'libraries', 'is', 'a', 'a', 'way', 'to', 'eâse', 'yöur', 'life', 'arouÑd', 'some', 'problems', 'Built-ins', \"'fonctionalités'\", 'of', 'python', 'like', 're', 'collectioNs', 'or', 'functools', 'are', 'pillars', 'for', 'clean', 'optimized', 'code', 'code', 'Do', 'not', 'rewrite', 'enhance', 'it', 'Now', 'Dø', 'It', 'Yourself']\n"
     ]
    }
   ],
   "source": [
    "# ADDING FUNCTIONALITIES TO COUNTER\n",
    "class MyCounter(Counter):\n",
    "    def __init__(self, *args, **kwds):\n",
    "        \"\"\"Call to super().__init__(...) creates an instance of Counter\"\"\"\n",
    "        super().__init__(*args, **kwds)\n",
    "\n",
    "    def total(self):\n",
    "        \"\"\"add each word's count\"\"\"\n",
    "        total = 0\n",
    "        for word, count in self.items():\n",
    "            total += count\n",
    "        return total\n",
    "    \n",
    "    def elements(self):\n",
    "        \"\"\"\n",
    "        alter counter.elements() to return a list of elements,\n",
    "        instead of an itertools.chain object\n",
    "        \"\"\"\n",
    "        return [elem for elem in super().elements()]\n",
    "\n",
    "\n",
    "counter = MyCounter(words)\n",
    "print(\"total number of words : \", counter.total())\n",
    "print(\"words :\\n\", counter.elements())"
   ]
  },
  {
   "cell_type": "markdown",
   "id": "d42d411a",
   "metadata": {
    "pycharm": {
     "name": "#%% md\n"
    }
   },
   "source": [
    "### We made it !\n",
    "You now have a MyCounter class that have a .total() method and .elements() now returns a list.\n",
    "\n",
    "What else could we do with it ??\n"
   ]
  }
 ],
 "metadata": {
  "kernelspec": {
   "display_name": "Python 3 (ipykernel)",
   "language": "python",
   "name": "python3"
  },
  "language_info": {
   "codemirror_mode": {
    "name": "ipython",
    "version": 3
   },
   "file_extension": ".py",
   "mimetype": "text/x-python",
   "name": "python",
   "nbconvert_exporter": "python",
   "pygments_lexer": "ipython3",
   "version": "3.9.12"
  }
 },
 "nbformat": 4,
 "nbformat_minor": 5
}