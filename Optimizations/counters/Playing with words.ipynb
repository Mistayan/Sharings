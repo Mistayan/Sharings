{
 "cells": [
  {
   "cell_type": "code",
   "execution_count": 1,
   "id": "57c93c93",
   "metadata": {
    "pycharm": {
     "name": "#%%\n"
    }
   },
   "outputs": [
    {
     "name": "stdout",
     "output_type": "stream",
     "text": [
      "it took 0.01084689999999977s to split the sentence.\n",
      "If we count words : 18,We can see the count is not accurate, since '!' is considered a letter here.\n",
      " ['Python', 'is', 'fun,', 'yet', 'complex', '!', 'Using', 'libraries', 'is', 'a', 'way', 'to', 'ease', 'your', 'life', 'around', 'some', 'problems.']\n"
     ]
    }
   ],
   "source": [
    "from timeit import timeit\n",
    "\n",
    "sentence = \"Python is fun, yet complex ! \" \\\n",
    "           \"Using libraries is a way to ease your life around some problems.\"\n",
    "\n",
    "\"\"\"\n",
    "The most commonly used method to count words in a sentence is pourly optimized.\n",
    "On top of beeing slow, it does not allow proper counting without further operations.\n",
    "\"\"\"\n",
    "timer = timeit()\n",
    "words_split = sentence.split()\n",
    "print(f\"it took {timer}s to split the sentence.\\n\" \\\n",
    "      f\"If we count words : {len(words_split)},\" \\\n",
    "      f\"We can see the count is not accurate, since '!' is considered a letter here.\\n {words_split}\")"
   ]
  },
  {
   "cell_type": "code",
   "execution_count": 2,
   "id": "567afad9",
   "metadata": {
    "pycharm": {
     "name": "#%%\n"
    }
   },
   "outputs": [
    {
     "name": "stdout",
     "output_type": "stream",
     "text": [
      "it took 0.020138599999999673s to regex the sentence. if we count words : 17\n",
      "We can see the count is accurate and pretty fast: {words}\n"
     ]
    }
   ],
   "source": [
    "import re\n",
    "\n",
    "\"\"\"\n",
    "In regex, \\w+ is [a-zA-Z-]+ meaning it will only match ascii_letters\n",
    "Where + means 'find as much as you can in a row'\n",
    "\"\"\"\n",
    "timer = timeit()\n",
    "words = re.findall(r\"\\w+\", sentence)  \n",
    "print(f\"it took {timer}s to regex the sentence. if we count words : {len(words)}\\n\"\\\n",
    "       \"We can see the count is accurate and pretty fast: {words}\")"
   ]
  },
  {
   "cell_type": "code",
   "execution_count": 3,
   "id": "c3275cb6",
   "metadata": {
    "pycharm": {
     "name": "#%%\n"
    }
   },
   "outputs": [
    {
     "name": "stdout",
     "output_type": "stream",
     "text": [
      "Counter({'is': 2, 'Python': 1, 'fun': 1, 'yet': 1, 'complex': 1, 'Using': 1, 'libraries': 1, 'a': 1, 'way': 1, 'to': 1, 'ease': 1, 'your': 1, 'life': 1, 'around': 1, 'some': 1, 'problems': 1})\n",
      "Counter({'e': 8, 'o': 7, 's': 7, 'i': 6, 'r': 5, 'a': 5, 'y': 4, 'n': 4, 'l': 4, 't': 3, 'u': 3, 'm': 3, 'f': 2, 'p': 2, 'b': 2, 'P': 1, 'h': 1, 'c': 1, 'x': 1, 'U': 1, 'g': 1, 'w': 1, 'd': 1})\n",
      "Counter come with many usefull methods\n",
      "which word is the most used in sentence : [('is', 2)]\n",
      "which 3 letters are most used in sentence : [('e', 8), ('o', 7), ('s', 7)]\n",
      "it took 0.01479879999999989s to use regex, count plain words and count letters occurences\n"
     ]
    }
   ],
   "source": [
    "from collections import Counter\n",
    "\n",
    "\"\"\"\n",
    "Now, if we want to count each words or letters used in the text, we want to use Counter.\n",
    "It is part of collections built-in libraries and allow fast, optimized traversal of hashable objects.\n",
    "\"\"\"\n",
    "timer = timeit()\n",
    "# Since we know regex will get for us plain words in an optimized fashion way,\n",
    "# we are going to time it all, to observe how fast the process is.\n",
    "words = re.findall(r\"\\w+\", sentence)\n",
    "words_counter = Counter(words)\n",
    "letters_counter = Counter()\n",
    "\n",
    "# I chose to use index traversal, since it does not create an object for each iteration\n",
    "# Therefore, it is memory friendly and faster.\n",
    "for i in range(len(words)):\n",
    "    letters_counter.update(words[i])\n",
    "\n",
    "print(f\"{words_counter}\")\n",
    "print(f\"{letters_counter}\")\n",
    "print(f\"Counter come with many usefull methods\")\n",
    "print(f\"which word is the most used in sentence : {words_counter.most_common(1)}\")\n",
    "print(f\"which 3 letters are most used in sentence : {letters_counter.most_common(3)}\")\n",
    "print(f\"it took {timer}s to use regex, count plain words and count letters occurences\")"
   ]
  },
  {
   "cell_type": "code",
   "execution_count": 3,
   "id": "9ed9ef6b",
   "metadata": {
    "pycharm": {
     "name": "#%%\n"
    }
   },
   "outputs": [],
   "source": [
    "\n"
   ]
  }
 ],
 "metadata": {
  "kernelspec": {
   "display_name": "Python 3 (ipykernel)",
   "language": "python",
   "name": "python3"
  },
  "language_info": {
   "codemirror_mode": {
    "name": "ipython",
    "version": 3
   },
   "file_extension": ".py",
   "mimetype": "text/x-python",
   "name": "python",
   "nbconvert_exporter": "python",
   "pygments_lexer": "ipython3",
   "version": "3.9.12"
  }
 },
 "nbformat": 4,
 "nbformat_minor": 5
}