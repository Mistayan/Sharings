{
 "cells": [
  {
   "cell_type": "code",
   "execution_count": 13,
   "id": "85147e8f",
   "metadata": {
    "pycharm": {
     "name": "#%%\n"
    }
   },
   "outputs": [
    {
     "name": "stdout",
     "output_type": "stream",
     "text": [
      "it took 0.01582700000017212s to split the sentence.\n",
      " if we count words : 18 We can see the count is not accurate, since '!' is considered a letter here : ['Python', 'is', 'fun,', 'yet', 'complex', '!', 'Using', 'libraries', 'is', 'a', 'way', 'to', 'ease', 'your', 'life', 'around', 'some', 'problems.']\n",
      "\n",
      "it took 0.010428000000047177s to regex the sentence. if we count words : 17\n",
      "We can see the count is accurate and pretty fast\n",
      "\n",
      "it took 0.010237099999812926s to Count the letters in sentence.\n",
      "There are 27 differents characters. Of which Counter({'is': 2, 'Python': 1, 'fun': 1, 'yet': 1, 'complex': 1, 'Using': 1, 'libraries': 1, 'a': 1, 'way': 1, 'to': 1, 'ease': 1, 'your': 1, 'life': 1, 'around': 1, 'some': 1, 'problems': 1}) letters.\n",
      "\n",
      "Counter({'is': 2, 'Python': 1, 'fun': 1, 'yet': 1, 'complex': 1, 'Using': 1, 'libraries': 1, 'a': 1, 'way': 1, 'to': 1, 'ease': 1, 'your': 1, 'life': 1, 'around': 1, 'some': 1, 'problems': 1})\n",
      "['Python', 'is', 'fun', 'yet', 'complex', 'Using', 'libraries', 'is', 'a', 'way', 'to', 'ease', 'your', 'life', 'around', 'some', 'problems']\n"
     ]
    }
   ],
   "source": [
    "import string\n",
    "import re\n",
    "from collections import Counter\n",
    "from timeit import timeit\n",
    "\n",
    "sentence = \"Python is fun, yet complex ! \" \\\n",
    "           \"Using libraries is a way to ease your life around some problems.\"\n",
    "timer = timeit()\n",
    "words_split = sentence.split()  # The most used method\n",
    "print(f\"it took {timer}s to split the sentence.\\n if we count words : {len(words_split)}\" \\\n",
    "      f\" We can see the count is not accurate, since '!' is considered a letter here : {words_split}\")\n",
    "print()\n",
    "\n",
    "timer = timeit()\n",
    "words = re.findall(r\"\\w+\", sentence)\n",
    "print(f\"it took {timer}s to regex the sentence. if we count words : {len(words)}\\n\"\\\n",
    "       \"We can see the count is accurate and pretty fast\")\n",
    "print()\n",
    "\n",
    "timer = timeit()\n",
    "elements = Counter(sentence)\n",
    "letters = Counter(re.findall(r\"\\w+\", sentence))\n",
    "print(f\"it took {timer}s to Count the letters in sentence.\\n\" \\\n",
    "      f\"There are {len(elements)} differents characters. Of which {letters} letters.\")\n",
    "print()\n",
    "print(letters)\n",
    "print(words)\n"
   ]
  },
  {
   "cell_type": "code",
   "execution_count": 3,
   "id": "a28f76c7",
   "metadata": {
    "pycharm": {
     "name": "#%%\n"
    }
   },
   "outputs": [
    {
     "name": "stdout",
     "output_type": "stream",
     "text": [
      "Note: you may need to restart the kernel to use updated packages.\n"
     ]
    },
    {
     "name": "stderr",
     "output_type": "stream",
     "text": [
      "ERROR: unknown command \"update\"\n",
      "\n"
     ]
    }
   ],
   "source": [
    "pip update collections\n"
   ]
  },
  {
   "cell_type": "code",
   "execution_count": 5,
   "id": "b3456984",
   "metadata": {
    "pycharm": {
     "name": "#%%\n"
    }
   },
   "outputs": [
    {
     "name": "stdout",
     "output_type": "stream",
     "text": [
      "Note: you may need to restart the kernel to use updated packages.\n"
     ]
    },
    {
     "name": "stderr",
     "output_type": "stream",
     "text": [
      "ERROR: Could not find a version that satisfies the requirement collections (from versions: none)\n",
      "ERROR: No matching distribution found for collections\n"
     ]
    }
   ],
   "source": [
    "pip install collections\n"
   ]
  },
  {
   "cell_type": "code",
   "execution_count": null,
   "id": "f7f10fc9",
   "metadata": {
    "pycharm": {
     "name": "#%%\n"
    }
   },
   "outputs": [],
   "source": []
  }
 ],
 "metadata": {
  "kernelspec": {
   "display_name": "Python 3 (ipykernel)",
   "language": "python",
   "name": "python3"
  },
  "language_info": {
   "codemirror_mode": {
    "name": "ipython",
    "version": 3
   },
   "file_extension": ".py",
   "mimetype": "text/x-python",
   "name": "python",
   "nbconvert_exporter": "python",
   "pygments_lexer": "ipython3",
   "version": "3.9.12"
  }
 },
 "nbformat": 4,
 "nbformat_minor": 5
}