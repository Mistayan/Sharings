{
 "cells": [
  {
   "cell_type": "markdown",
   "id": "c409542b",
   "metadata": {
    "pycharm": {
     "name": "#%% md\n"
    }
   },
   "source": [
    "# Optimization is key : better performances and eco-conception.\n",
    "\n",
    "## Fibonacci \n",
    "\n",
    "The Fibonacci sequence is described as a recurrence relation.  \n",
    "    F(0) and F(1) are defined to be 0.\n",
    "    The nth Fibonacci number is the sum of F(n-1) and F(n-2).\n",
    "    \n",
    "So, now we all have the same definition, let's pick the first code sample we find, and let's try to optimize it."
   ]
  },
  {
   "cell_type": "code",
   "execution_count": 1,
   "id": "adfee456",
   "metadata": {
    "scrolled": true,
    "pycharm": {
     "name": "#%%\n"
    }
   },
   "outputs": [
    {
     "name": "stdout",
     "output_type": "stream",
     "text": [
      "For 10000 runs : \n",
      "fib_most_common : 3.397s\n",
      "fib_optimized : 3.317s\n",
      "Difference : 0.080s\n"
     ]
    }
   ],
   "source": [
    "## Imports to time with ease a fuction's performances.\n",
    "from timeit import timeit\n",
    "from functools import partial\n",
    "import time\n",
    "\n",
    "\"\"\"\n",
    "With Python, let's compare how the way you code things WILL affect performances.\n",
    "\"\"\"\n",
    "    \n",
    "def fib_most_common(n):\n",
    "    \"\"\" the first recursive method we can find online\"\"\"\n",
    "    if n <= 1:\n",
    "        return n\n",
    "    else:\n",
    "        return(fib_most_common(n-1) + fib_most_common(n-2))\n",
    "\n",
    "def fib_optimized(n):\n",
    "    \"\"\" This version is sligthly optimized due to the order we wrote stuff,\n",
    "     since most of the time, n > 1\"\"\"\n",
    "    if n > 1:\n",
    "        return fib_optimized(n-1) + fib_optimized(n-2)\n",
    "    return n\n",
    "\n",
    "n = 15  # We want the result for the 15th element \n",
    "time1 = time2 = 0\n",
    "# Run many times\n",
    "nb_runs = 100\n",
    "for _ in range(nb_runs):\n",
    "    time.sleep(0.001)  # This is to avoid clipping issues\n",
    "    time1 += timeit(partial(fib_most_common, n), number=nb_runs)\n",
    "    time.sleep(0.001)  # This is to avoid clipping issues\n",
    "    time2 += timeit(partial(fib_optimized, n), number=nb_runs)\n",
    "    \n",
    "print(f\"For {nb_runs ** 2} runs : \\nfib_most_common : {time1:.3f}s\\n\"\n",
    "      f\"fib_optimized : {time2:.3f}s\\nDifference : {time1 - time2:.3f}s\")\n"
   ]
  },
  {
   "cell_type": "markdown",
   "id": "889a66de",
   "metadata": {
    "pycharm": {
     "name": "#%% md\n"
    }
   },
   "source": [
    "Sure, this is a minor optimization, allowing us to save some ticks.  (difference is proportional to N in this case)\n",
    "\n",
    "        What if this portion of code is called everytime something happens on your software ?\n",
    "        What if many other algorithms depends on this one ?\n",
    "\n",
    "\n",
    "Now let's compare this to another approach, and determine which algorithm is most efficient. (Therefore, most eco-friendly on long term)"
   ]
  },
  {
   "cell_type": "markdown",
   "id": "047b89c0",
   "metadata": {
    "pycharm": {
     "name": "#%% md\n"
    }
   },
   "source": [
    "# Python, mathematics and optimizations\n",
    "\n",
    "#### <a href=\"https://www.sciencedirect.com/science/article/pii/S0195669807000595\">Binet Formula: </a>\n",
    "Is defined as follow, and is proven to return a value so close from fibonacci sequence, that we should use this one, instead of the later.\n",
    "> Golden_Number = φ = (1 + √(5)) / 2 ~= 1.618034 <br>\n",
    "> F(n) = (φ^n - (1/φ)^n) // sqrt(5)\n",
    "\n",
    "(^^^^ Read article above to understand how we ended up with this forumla ^^^^)\n",
    "\n",
    "Python is a magnificient language for mathematics :"
   ]
  },
  {
   "cell_type": "code",
   "execution_count": 2,
   "id": "04e07e8c",
   "metadata": {
    "scrolled": true,
    "pycharm": {
     "name": "#%%\n"
    }
   },
   "outputs": [
    {
     "name": "stdout",
     "output_type": "stream",
     "text": [
      "n: 2\tBinet : 0.6s\tFibonacci : 0.5s\n",
      "n: 4\tBinet : 0.7s\tFibonacci : 1.4s\n",
      "n: 6\tBinet : 0.7s\tFibonacci : 3.6s\n",
      "n: 8\tBinet : 0.7s\tFibonacci : 8.5s\n",
      "n: 10\tBinet : 0.6s\tFibonacci : 22.5s\n"
     ]
    }
   ],
   "source": [
    "from math import sqrt\n",
    "\n",
    "def fib_math(n):  # Trucefully the Binet formula\n",
    "    return (φ**n - φp**n) // sqrt(5)\n",
    "\n",
    "# Formulae assignation\n",
    "F = fib_math\n",
    "\n",
    "# Golden number relations.\n",
    "# We could use some rounded value of this number, to further optimize;\n",
    "# therefore reducing higher values accuracy...\n",
    "φ = (1 + sqrt(5)) / 2  #<--- YES, PYTHON ALLOWS THIS !!!\n",
    "φp = 1 / φ\n",
    "\n",
    "# Compare different approaches to assert that both functions return the same\n",
    "for n in range(2, 20, 4):\n",
    "    assert F(n) == fib_optimized(n)\n",
    "    \n",
    "# Now, let's compare speed between those 2 functions for different values of N\n",
    "for n in range(2, 11, 2):\n",
    "    t1 = timeit(partial(F, n))\n",
    "    time.sleep(0.01)  # This is to avoid clipping issues\n",
    "    t2 = timeit(partial(fib_optimized, n))\n",
    "    print(f\"n: {n}\\tBinet : {t1:.1f}s\\tFibonacci : {t2:.1f}s\")"
   ]
  },
  {
   "cell_type": "markdown",
   "id": "33c2ddf9",
   "metadata": {
    "pycharm": {
     "name": "#%% md\n"
    }
   },
   "source": [
    "### Stunning optimization, scientifically proven.\n",
    "\n",
    "think, plan, test different solutions before you write."
   ]
  }
 ],
 "metadata": {
  "kernelspec": {
   "display_name": "Python 3 (ipykernel)",
   "language": "python",
   "name": "python3"
  },
  "language_info": {
   "codemirror_mode": {
    "name": "ipython",
    "version": 3
   },
   "file_extension": ".py",
   "mimetype": "text/x-python",
   "name": "python",
   "nbconvert_exporter": "python",
   "pygments_lexer": "ipython3",
   "version": "3.9.12"
  }
 },
 "nbformat": 4,
 "nbformat_minor": 5
}